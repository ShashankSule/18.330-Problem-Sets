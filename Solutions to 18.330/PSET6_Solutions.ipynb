{
 "cells": [
  {
   "cell_type": "markdown",
   "metadata": {},
   "source": [
    "# Problem Set 6 Solutions\n",
    "\n",
    "## 18.330 Intro to Numerical Analysis (MIT, Spring 2019) \n",
    "\n",
    "Henrik Ronellenfitsch\n"
   ]
  },
  {
   "cell_type": "markdown",
   "metadata": {},
   "source": [
    "## Problem 1. Solving linear systems (25 points)"
   ]
  },
  {
   "cell_type": "code",
   "execution_count": 1,
   "metadata": {},
   "outputs": [
    {
     "data": {
      "text/plain": [
       "lu_decomp (generic function with 1 method)"
      ]
     },
     "execution_count": 1,
     "metadata": {},
     "output_type": "execute_result"
    }
   ],
   "source": [
    "function lu_decomp(A)\n",
    "    \"\"\" Return the LU decomposition without pivoting\n",
    "    \"\"\"\n",
    "    N = size(A)[1]\n",
    "    \n",
    "    L = zeros(N, N)\n",
    "    U = zeros(N, N)\n",
    "    \n",
    "    for i=1:N\n",
    "        # diagonal of L\n",
    "        L[i,i] = 1.0\n",
    "        \n",
    "        # columns of L\n",
    "        for j=1:i-1\n",
    "            L[i,j] = (A[i,j] - L[i,1:j-1]'*U[1:j-1,j])/U[j,j]\n",
    "        end\n",
    "        \n",
    "        # rows of U\n",
    "        for j=i:N\n",
    "            U[i,j] = A[i,j] - L[i,1:i-1]'*U[1:i-1,j]\n",
    "        end\n",
    "    end\n",
    "    \n",
    "    return L, U\n",
    "end"
   ]
  },
  {
   "cell_type": "code",
   "execution_count": 2,
   "metadata": {},
   "outputs": [
    {
     "data": {
      "text/plain": [
       "cholesky_decomp (generic function with 1 method)"
      ]
     },
     "execution_count": 2,
     "metadata": {},
     "output_type": "execute_result"
    }
   ],
   "source": [
    "function cholesky_decomp(A)\n",
    "    \"\"\" Return the Cholesky decomposition\n",
    "    of a symmetric positive definite matrix A\n",
    "    \"\"\"\n",
    "    N = size(A)[1]\n",
    "    \n",
    "    L = zeros(N, N)\n",
    "    \n",
    "    for i=1:N\n",
    "        # diagonal element\n",
    "        L[i,i] = sqrt(A[i,i] - L[i,:]'*L[i,:])\n",
    "        \n",
    "        # off-diagonal elements\n",
    "        for j=i+1:N\n",
    "            L[j,i] = (A[i,j] - L[i,:]'*L[j,:])/L[i,i]\n",
    "        end\n",
    "    end\n",
    "    \n",
    "    return L\n",
    "end"
   ]
  },
  {
   "cell_type": "code",
   "execution_count": 3,
   "metadata": {},
   "outputs": [
    {
     "data": {
      "text/plain": [
       "forward_subst (generic function with 1 method)"
      ]
     },
     "execution_count": 3,
     "metadata": {},
     "output_type": "execute_result"
    }
   ],
   "source": [
    "function forward_subst(L, b)\n",
    "    \"\"\" Solve Lx = b with L lower triangular\n",
    "    using forward substitution\n",
    "    \"\"\" \n",
    "    \n",
    "    N = size(L)[1]\n",
    "    x = zeros(N)\n",
    "    \n",
    "    for i=1:N\n",
    "        x[i] = (b[i] - L[i,:]'*x)/L[i,i]\n",
    "    end\n",
    "    \n",
    "    return x\n",
    "end"
   ]
  },
  {
   "cell_type": "code",
   "execution_count": 4,
   "metadata": {},
   "outputs": [
    {
     "data": {
      "text/plain": [
       "back_subst (generic function with 1 method)"
      ]
     },
     "execution_count": 4,
     "metadata": {},
     "output_type": "execute_result"
    }
   ],
   "source": [
    "function back_subst(U, b)\n",
    "    \"\"\" Solve Ux = b with U upper triangular\n",
    "    using backsubstitution\n",
    "    \"\"\" \n",
    "    \n",
    "    N = size(L)[1]\n",
    "    x = zeros(N)\n",
    "    \n",
    "    for i=N:-1:1\n",
    "        x[i] = (b[i] - U[i,:]'*x)/U[i,i]\n",
    "    end\n",
    "    \n",
    "    return x\n",
    "end"
   ]
  },
  {
   "cell_type": "markdown",
   "metadata": {},
   "source": [
    "### (a)"
   ]
  },
  {
   "cell_type": "code",
   "execution_count": 5,
   "metadata": {},
   "outputs": [
    {
     "data": {
      "text/plain": [
       "([1.0 0.0 0.0; 2.4 1.0 0.0; -1.0 -0.285714 1.0], [1.0 3.0 2.0; 0.0 -10.5 -3.7; 0.0 0.0 2.94286])"
      ]
     },
     "execution_count": 5,
     "metadata": {},
     "output_type": "execute_result"
    }
   ],
   "source": [
    "A = [1.0 3 2\n",
    "2.4 -3.3 1.1\n",
    "-1 0 2]\n",
    "\n",
    "b = [1; 2; 3]\n",
    "\n",
    "# This is a generic non-symetric matrix, so we use LU decomposition\n",
    "L, U = lu_decomp(A)"
   ]
  },
  {
   "cell_type": "code",
   "execution_count": 6,
   "metadata": {},
   "outputs": [
    {
     "data": {
      "text/plain": [
       "3-element Array{Float64,1}:\n",
       "  1.0               \n",
       " -0.3999999999999999\n",
       "  3.8857142857142857"
      ]
     },
     "execution_count": 6,
     "metadata": {},
     "output_type": "execute_result"
    }
   ],
   "source": [
    "# first solve L y = b using forward substitution\n",
    "y = forward_subst(L, b)"
   ]
  },
  {
   "cell_type": "code",
   "execution_count": 7,
   "metadata": {},
   "outputs": [
    {
     "data": {
      "text/plain": [
       "3-element Array{Float64,1}:\n",
       " -0.3592233009708736\n",
       " -0.4271844660194174\n",
       "  1.320388349514563 "
      ]
     },
     "execution_count": 7,
     "metadata": {},
     "output_type": "execute_result"
    }
   ],
   "source": [
    "# then solve U x = y using backsubstitution\n",
    "x = back_subst(U, y)"
   ]
  },
  {
   "cell_type": "code",
   "execution_count": 8,
   "metadata": {},
   "outputs": [
    {
     "data": {
      "text/plain": [
       "3-element Array{Float64,1}:\n",
       " -0.3592233009708738 \n",
       " -0.42718446601941745\n",
       "  1.320388349514563  "
      ]
     },
     "execution_count": 8,
     "metadata": {},
     "output_type": "execute_result"
    }
   ],
   "source": [
    "# compare to Julia's backslash operator\n",
    "A \\ b"
   ]
  },
  {
   "cell_type": "markdown",
   "metadata": {},
   "source": [
    "### (b)"
   ]
  },
  {
   "cell_type": "code",
   "execution_count": 9,
   "metadata": {},
   "outputs": [
    {
     "data": {
      "text/plain": [
       "3-element Array{Int64,1}:\n",
       " 1\n",
       " 2\n",
       " 3"
      ]
     },
     "execution_count": 9,
     "metadata": {},
     "output_type": "execute_result"
    }
   ],
   "source": [
    "A = [5 -3 2\n",
    "-3 6 -1\n",
    "2 -1 5]\n",
    "\n",
    "b = [1; 2; 3]"
   ]
  },
  {
   "cell_type": "code",
   "execution_count": 10,
   "metadata": {},
   "outputs": [
    {
     "data": {
      "text/plain": [
       "3×3 Array{Float64,2}:\n",
       "  2.23607   0.0      0.0    \n",
       " -1.34164   2.04939  0.0    \n",
       "  0.894427  0.09759  2.04707"
      ]
     },
     "execution_count": 10,
     "metadata": {},
     "output_type": "execute_result"
    }
   ],
   "source": [
    "# this is a symmetric matrix. If it's positive definite, then Cholesky works\n",
    "\n",
    "L = cholesky_decomp(A)"
   ]
  },
  {
   "cell_type": "code",
   "execution_count": 11,
   "metadata": {},
   "outputs": [
    {
     "data": {
      "text/plain": [
       "3-element Array{Float64,1}:\n",
       " 0.4472135954999579\n",
       " 1.2686700948330931\n",
       " 1.2096294735180122"
      ]
     },
     "execution_count": 11,
     "metadata": {},
     "output_type": "execute_result"
    }
   ],
   "source": [
    "# Cholesky is successful, so we can solve\n",
    "# Ly = b using forward substitution\n",
    "y = forward_subst(L, b)"
   ]
  },
  {
   "cell_type": "code",
   "execution_count": 12,
   "metadata": {},
   "outputs": [
    {
     "data": {
      "text/plain": [
       "3-element Array{Float64,1}:\n",
       " 0.3181818181818181\n",
       " 0.5909090909090908\n",
       " 0.5909090909090909"
      ]
     },
     "execution_count": 12,
     "metadata": {},
     "output_type": "execute_result"
    }
   ],
   "source": [
    "# and then Lᵀx = y using backsubstitution\n",
    "x = back_subst(L', y)"
   ]
  },
  {
   "cell_type": "code",
   "execution_count": 13,
   "metadata": {},
   "outputs": [
    {
     "data": {
      "text/plain": [
       "3-element Array{Float64,1}:\n",
       " 0.31818181818181823\n",
       " 0.590909090909091  \n",
       " 0.5909090909090909 "
      ]
     },
     "execution_count": 13,
     "metadata": {},
     "output_type": "execute_result"
    }
   ],
   "source": [
    "# compare to backslash\n",
    "A \\ b"
   ]
  },
  {
   "cell_type": "markdown",
   "metadata": {},
   "source": [
    "### (c)"
   ]
  },
  {
   "cell_type": "code",
   "execution_count": 14,
   "metadata": {},
   "outputs": [
    {
     "data": {
      "text/plain": [
       "3-element Array{Int64,1}:\n",
       " 1\n",
       " 2\n",
       " 3"
      ]
     },
     "execution_count": 14,
     "metadata": {},
     "output_type": "execute_result"
    }
   ],
   "source": [
    "A = [2 -3 2\n",
    "-3 3 -1\n",
    "2 -1 2]\n",
    "\n",
    "b = [1; 2; 3]"
   ]
  },
  {
   "cell_type": "code",
   "execution_count": 15,
   "metadata": {},
   "outputs": [
    {
     "ename": "DomainError",
     "evalue": "DomainError with -1.4999999999999991:\nsqrt will only return a complex result if called with a complex argument. Try sqrt(Complex(x)).",
     "output_type": "error",
     "traceback": [
      "DomainError with -1.4999999999999991:\nsqrt will only return a complex result if called with a complex argument. Try sqrt(Complex(x)).",
      "",
      "Stacktrace:",
      " [1] throw_complex_domainerror(::Symbol, ::Float64) at ./math.jl:31",
      " [2] sqrt at ./math.jl:492 [inlined]",
      " [3] cholesky_decomp(::Array{Int64,2}) at ./In[2]:11",
      " [4] top-level scope at In[15]:1"
     ]
    }
   ],
   "source": [
    "# A symmetric again but Cholesky fails:\n",
    "cholesky_decomp(A)"
   ]
  },
  {
   "cell_type": "code",
   "execution_count": 16,
   "metadata": {},
   "outputs": [
    {
     "data": {
      "text/plain": [
       "3-element Array{Float64,1}:\n",
       " -0.5\n",
       "  1.0\n",
       "  2.5"
      ]
     },
     "execution_count": 16,
     "metadata": {},
     "output_type": "execute_result"
    }
   ],
   "source": [
    "# So it's not positive definite. Therefore, we must resort to LU\n",
    "L, U = lu_decomp(A)\n",
    "y = forward_subst(L, b)\n",
    "x = back_subst(U, y)"
   ]
  },
  {
   "cell_type": "code",
   "execution_count": 17,
   "metadata": {},
   "outputs": [
    {
     "data": {
      "text/plain": [
       "3-element Array{Float64,1}:\n",
       " -0.5\n",
       "  1.0\n",
       "  2.5"
      ]
     },
     "execution_count": 17,
     "metadata": {},
     "output_type": "execute_result"
    }
   ],
   "source": [
    "# compare to backslash\n",
    "A \\ b"
   ]
  },
  {
   "cell_type": "markdown",
   "metadata": {},
   "source": [
    "## Problem 2. Uniqueness of the QR decomposition. (25 points)"
   ]
  },
  {
   "cell_type": "markdown",
   "metadata": {},
   "source": [
    "### (a) Inverse of upper triangular matrix\n",
    "\n",
    "\n",
    "We first show that $R^{-1}$ is upper triangular if $R$ is. This is easy to see using the\n",
    "backsubstitution algorithm. The inverse of a matrix is computed by solving the linear systems\n",
    "\n",
    "$$\n",
    "R \\mathbf{x}_i = \\mathbf{e}_i,\n",
    "$$\n",
    "where $\\mathbf{e}_i = (0, \\dots, 0, \\underbrace{1}_{i\\text{th position}},0,\\dots, 0)^\\top$.\n",
    "Then, $R^{-1} = [\\mathbf{x}_1, \\dots \\mathbf{x}_n]$.\n",
    "\n",
    "The backsubstitution algorithm then leads to\n",
    "$$\n",
    "(\\mathbf{x}_i)_j = \\frac{1}{R_{jj}} \\left( (\\mathbf{e}_i)_j - \\sum_{k=j+1}^n R_{jk} (x_i)_k \\right),\n",
    "$$\n",
    "\n",
    "since this is evaluated from the back from $j=N,N-1,N-2,\\dots$, it will produce only zeros until\n",
    "$j=i$. Therefore, the matrix $R^{-1}$ is again upper triangular if $R$ is upper triangular.\n",
    "\n",
    "### (b) Product of upper triangular matrices\n",
    "\n",
    "Let $X = R_1 R_2$ where $R_1, R_2$ are both upper triangular and square.\n",
    "Then\n",
    "$$\n",
    "X_{ij} = \\sum_{k=1}^N (R_1)_{ik} (R_2)_{kj}.\n",
    "$$\n",
    "\n",
    "The lower triangle if $X$ has $i < j$. But then $(R_1)_{ik}$ is zero for all $k$ from $1$ to $i-1$\n",
    "and $(R_2)_{kj}$ is zero for all $k$ from $j+1$ to $N$.\n",
    "Therefore all summands are zero for $i<j$ and the product is again upper triangular.\n",
    "\n",
    "### (c) Uniqueness of the QR decomposition\n",
    "Assume that that\n",
    "$$\n",
    "A = Q_1 R_1 = Q_2 R_2.\n",
    "$$\n",
    "\n",
    "It follows that\n",
    "$$\n",
    "Q_2^\\top Q_1 = R_2 R_1^{-1}.\n",
    "$$\n",
    "\n",
    "We first check\n",
    "$$\n",
    "(Q_2^\\top Q_1)^\\top Q_2^\\top Q_1 = Q_1^\\top \\underbrace{Q_2 Q_2^\\top}_{=\\mathbb{1}} Q_1 = Q_1^\\top Q_1 = \\mathbb{1},\n",
    "$$\n",
    "so the left hand side is again an orthogonal matrix.\n",
    "By part (a), $R_1^{-1}$ is again upper triangular and by part (b), the RHS is a product of upper triangular\n",
    "matrices and again upper triangular.\n",
    "\n",
    "We now check that the only upper triangular matrix that is orthogonal is the identity.\n",
    "Orthogonal matrices have orthogonal columns.\n",
    "\n",
    "Compute the inner product of the first column $(r_{11}, 0, \\dots, 0)^\\top$ with all the others\n",
    "to obtain\n",
    "$$\n",
    "1 = r_{11}^2, \\quad 0 = r_{11} r_{21}, \\quad 0 = r_{11} r_{31}, \\quad\\dots\\quad, 0 = r_{11} r_{N1}.\n",
    "$$\n",
    "From this it follows that $r_{21} = r_{31} = \\dots = r_{N1} = 0$.\n",
    "Next, compute the inner product of the second column $(0, r_{22}, 0, \\dots, 0)^\\top$ with all the others,\n",
    "$$\n",
    "1 = r_{22}^2, \\quad 0 = r_{22} r_{32}, \\quad\\dots\\quad, 0 = r_{22} r_{N2}.\n",
    "$$\n",
    "From this it follows that $r_{32} = r_{42} = \\dots = r_{N2} = 0$.\n",
    "Continue this procedure to find that all off-diagonal elements $r_{ij}$,$i\\neq j$ must be zero.\n",
    "\n",
    "This leaves just the diagonal entries, which may all be $r_{ii} = \\pm 1$.\n",
    "But they are just $r_{ii} = (R_1)_{ii} (R_2)_{ii}$ because $R_1, R_2$ are upper triangular, and\n",
    "since we had assumed that $R_1, R_2$ have positive diagonal entries, it follows that\n",
    "$r_{ii} = 1$.\n",
    "\n",
    "So,\n",
    "$$\n",
    "Q_1^\\top Q_2 = \\mathbb{1} \\Rightarrow Q_2 = Q_1.\n",
    "$$\n",
    "\n",
    "### (d)\n",
    "Since the $Q$ factor is unique we have\n",
    "$$\n",
    "Q_1^\\top Q_2 = R_2 R_1^{-1} = \\mathbb{1} \\Rightarrow R_2 = R_1.\n",
    "$$\n",
    "\n",
    "Therefore, the QR decomposition with positive diagonal elements of $R$ is unique."
   ]
  },
  {
   "cell_type": "markdown",
   "metadata": {},
   "source": [
    "## Problem 3. Finding eigenvectors with the QR algorithm (25 points)\n",
    "\n",
    "### (a)\n",
    "We use the fact that\n",
    "$$\n",
    "\\hat Q_k = Q_0 Q_1\\dots Q_{k-1}\n",
    "$$\n",
    "converges to a set of orthonormal eigenvectors of $A$, if such a set exists.\n",
    "\n",
    "Because each step of the QR algorithm produces one factor $Q_i$, we can simply keep\n",
    "a running product that converges to a matrix of orthonormal eigenvectors."
   ]
  },
  {
   "cell_type": "code",
   "execution_count": 18,
   "metadata": {},
   "outputs": [],
   "source": [
    "using LinearAlgebra"
   ]
  },
  {
   "cell_type": "code",
   "execution_count": 19,
   "metadata": {},
   "outputs": [
    {
     "data": {
      "text/plain": [
       "eig_qr (generic function with 1 method)"
      ]
     },
     "execution_count": 19,
     "metadata": {},
     "output_type": "execute_result"
    }
   ],
   "source": [
    "function eig_qr(A; N=1000, ϵ=√eps())\n",
    "    \"\"\" Compute eigenvalues of A using the QR algorithm\n",
    "    \"\"\"\n",
    "    F = qr(A)\n",
    "    Q, R = F.Q, F.R\n",
    "    \n",
    "    # keep running product of all the Q's\n",
    "    Q̂ = Q\n",
    "    \n",
    "    for i=1:N\n",
    "        # new matrix\n",
    "        A_new = R*Q\n",
    "        \n",
    "        # termination criterion\n",
    "        if norm(A_new - A) < ϵ*norm(A_new)\n",
    "            break\n",
    "        end\n",
    "        \n",
    "        A = A_new\n",
    "        \n",
    "        # QR decomposition\n",
    "        F = qr(A)\n",
    "        Q, R = F.Q, F.R\n",
    "        \n",
    "        # update running product\n",
    "        Q̂ = Q̂*Q\n",
    "    end\n",
    "    \n",
    "    # return eigenvalues and eigenvectors\n",
    "    return diag(A), Q̂\n",
    "end"
   ]
  },
  {
   "cell_type": "markdown",
   "metadata": {},
   "source": [
    "### (b)"
   ]
  },
  {
   "cell_type": "code",
   "execution_count": 20,
   "metadata": {},
   "outputs": [
    {
     "data": {
      "text/plain": [
       "([-5.6758, 4.91639, 2.75942], [0.412659 -0.560236 0.718226; 0.597434 0.761669 0.250865; -0.687594 0.325571 0.649013])"
      ]
     },
     "execution_count": 20,
     "metadata": {},
     "output_type": "execute_result"
    }
   ],
   "source": [
    "# test algorithm\n",
    "A = [2 -3 2\n",
    "-3 1 4\n",
    "2 4 -1]\n",
    "\n",
    "u, v = eig_qr(A)"
   ]
  },
  {
   "cell_type": "code",
   "execution_count": 21,
   "metadata": {},
   "outputs": [
    {
     "data": {
      "text/plain": [
       "3×3 Array{Float64,2}:\n",
       " -5.6758  4.91639  2.75942\n",
       " -5.6758  4.91639  2.75942\n",
       " -5.6758  4.91639  2.75942"
      ]
     },
     "execution_count": 21,
     "metadata": {},
     "output_type": "execute_result"
    }
   ],
   "source": [
    "# check that they are eigenvectors\n",
    "A*v./v"
   ]
  },
  {
   "cell_type": "code",
   "execution_count": 22,
   "metadata": {},
   "outputs": [
    {
     "data": {
      "text/plain": [
       "3×3 Array{Float64,2}:\n",
       " 1.0           3.02536e-15   1.66533e-15\n",
       " 3.02536e-15   1.0          -4.16334e-16\n",
       " 1.66533e-15  -4.16334e-16   1.0        "
      ]
     },
     "execution_count": 22,
     "metadata": {},
     "output_type": "execute_result"
    }
   ],
   "source": [
    "# check that they are orthogonal\n",
    "v'*v"
   ]
  },
  {
   "cell_type": "markdown",
   "metadata": {},
   "source": [
    "### (c)"
   ]
  },
  {
   "cell_type": "code",
   "execution_count": 23,
   "metadata": {},
   "outputs": [
    {
     "data": {
      "text/plain": [
       "([-5.38038, 5.07159, 2.30878], [0.344519 -0.636 0.690514; 0.609579 0.710942 0.350677; -0.713947 0.300108 0.632626])"
      ]
     },
     "execution_count": 23,
     "metadata": {},
     "output_type": "execute_result"
    }
   ],
   "source": [
    "# test algorithm\n",
    "B = [2 -3 1\n",
    "-3 1 4\n",
    "2 4 -1]\n",
    "\n",
    "u, v = eig_qr(B)"
   ]
  },
  {
   "cell_type": "code",
   "execution_count": 24,
   "metadata": {},
   "outputs": [
    {
     "data": {
      "text/plain": [
       "3×3 Array{Float64,2}:\n",
       " -5.38038  4.88163  1.39262\n",
       " -5.38038  5.37227  2.30878\n",
       " -5.38038  4.23734  3.40029"
      ]
     },
     "execution_count": 24,
     "metadata": {},
     "output_type": "execute_result"
    }
   ],
   "source": [
    "B*v./v"
   ]
  },
  {
   "cell_type": "code",
   "execution_count": 25,
   "metadata": {},
   "outputs": [],
   "source": [
    "# The columns are not eigenvectors anymore!"
   ]
  },
  {
   "cell_type": "code",
   "execution_count": 26,
   "metadata": {},
   "outputs": [
    {
     "data": {
      "text/plain": [
       "3×3 Array{Float64,2}:\n",
       "  1.0           6.38378e-16  -1.83187e-15\n",
       "  6.38378e-16   1.0          -2.72005e-15\n",
       " -1.83187e-15  -2.72005e-15   1.0        "
      ]
     },
     "execution_count": 26,
     "metadata": {},
     "output_type": "execute_result"
    }
   ],
   "source": [
    "v'*v"
   ]
  },
  {
   "cell_type": "code",
   "execution_count": 27,
   "metadata": {},
   "outputs": [],
   "source": [
    "# The matrix is still orthogonal"
   ]
  },
  {
   "cell_type": "markdown",
   "metadata": {},
   "source": [
    "This can be explained by noting that B is not symmetric and therefore\n",
    "not guaranteed to possess orthogonal eigenvectors.\n",
    "While Orthogonal Iteration only converges to orthogonal eigenvectors if orthogonal eigenvectors exist,\n",
    "the QR algorithm will always converge to the correct eigenvalues, if it converges.\n",
    "\n",
    "We can compute normalized eigenvectors with Julia and see that they are not\n",
    "orthogonal."
   ]
  },
  {
   "cell_type": "code",
   "execution_count": 28,
   "metadata": {},
   "outputs": [
    {
     "data": {
      "text/plain": [
       "3×3 Array{Float64,2}:\n",
       "  0.344519  0.772971  -0.62409 \n",
       "  0.609579  0.127599   0.730983\n",
       " -0.713947  0.621478   0.275999"
      ]
     },
     "execution_count": 28,
     "metadata": {},
     "output_type": "execute_result"
    }
   ],
   "source": [
    "v = eigvecs(B)"
   ]
  },
  {
   "cell_type": "code",
   "execution_count": 29,
   "metadata": {},
   "outputs": [
    {
     "data": {
      "text/plain": [
       "3×3 Array{Float64,2}:\n",
       " -5.38038  2.30878  5.07159\n",
       " -5.38038  2.30878  5.07159\n",
       " -5.38038  2.30878  5.07159"
      ]
     },
     "execution_count": 29,
     "metadata": {},
     "output_type": "execute_result"
    }
   ],
   "source": [
    "# these are the correct eigenvectors\n",
    "B*v./v"
   ]
  },
  {
   "cell_type": "code",
   "execution_count": 30,
   "metadata": {},
   "outputs": [
    {
     "data": {
      "text/plain": [
       "3×3 Array{Float64,2}:\n",
       "  1.0        -0.099617   0.0335324\n",
       " -0.099617    1.0       -0.217604 \n",
       "  0.0335324  -0.217604   1.0      "
      ]
     },
     "execution_count": 30,
     "metadata": {},
     "output_type": "execute_result"
    }
   ],
   "source": [
    "# but they are not orthogonal\n",
    "v'*v"
   ]
  },
  {
   "cell_type": "markdown",
   "metadata": {},
   "source": [
    "## Problem 4. Eigenvectors using Inverse Iteration (25 points)\n",
    "\n",
    "### (a)\n",
    "We have\n",
    "$$\n",
    "A \\mathbf{v} = \\lambda \\,\\mathbf{v}.\n",
    "$$\n",
    "\n",
    "Then,\n",
    "\\begin{align}\n",
    "(A - \\mu \\mathbb{1})^{-1}\\mathbf{v} &= \\sigma \\mathbf{v} \\\\\n",
    "\\Rightarrow \\frac{1}{\\sigma} \\mathbf{v} &= (A - \\mu \\mathbb{1}) \\mathbf{v} = A \\mathbf{v} - \\mu\\mathbf{v} \\\\\n",
    "\\Rightarrow A\\mathbf{v} &= \\left(\\frac{1}{\\sigma} + \\mu\\right) \\mathbf{v}.\n",
    "\\end{align}\n",
    "\n",
    "So if $\\lambda$ is an eigenvalue of A, $\\sigma = \\frac{1}{\\lambda  - \\mu}$ is an eigenvalue of $(A - \\mu\\mathbb{1})^{-1}$ with the same eigenvector.\n",
    "\n",
    "### (b)\n",
    "Inverse iteration is defined by\n",
    "\n",
    "$$\n",
    "\\mathbf{b}_{k+1} = \\frac{(A - \\mu \\mathbb{1})^{-1} \\mathbf{b}_k}{\\|(A - \\mu \\mathbb{1})^{-1} \\mathbf{b}_k\\|}.\n",
    "$$\n",
    "\n",
    "Define $B = (A - \\mu \\mathbb{1})^{-1}$, then inverse iteration is just power iteration, and will\n",
    "converge to an eigenvector for the dominant eigenvalue of $B$.\n",
    "\n",
    "By part (a), the largest (dominant) eigenvalue of $B$ is the one where $\\lambda -\\mu$ is smallest, which\n",
    "is the one closest to $\\mu$, and the iteration\n",
    "converges to an eigenvector for that eigenvalue.\n",
    "\n",
    "### (c)"
   ]
  },
  {
   "cell_type": "code",
   "execution_count": 31,
   "metadata": {},
   "outputs": [
    {
     "data": {
      "text/plain": [
       "eigvecs_inverse_iteration (generic function with 1 method)"
      ]
     },
     "execution_count": 31,
     "metadata": {},
     "output_type": "execute_result"
    }
   ],
   "source": [
    "function inverse_iteration(A, μ; N=10000, ϵ=√eps())\n",
    "    \"\"\" Perform inverse iteration to find the eigenvector \n",
    "    of A for the eigenvalue closest to μ.\n",
    "    \"\"\"\n",
    "    n = size(A)[1]\n",
    "    \n",
    "    # random initial conditions\n",
    "    v = randn(n)\n",
    "    \n",
    "    for i=1:N\n",
    "        # inverse iteration\n",
    "        v_new = (A - μ*I) \\ v\n",
    "        v_new = v_new/norm(v_new)\n",
    "        \n",
    "        # termination criterion \n",
    "        if norm(v_new - v) < ϵ\n",
    "            return v_new\n",
    "        end\n",
    "        \n",
    "        v = v_new\n",
    "    end\n",
    "    \n",
    "    return v\n",
    "end\n",
    "\n",
    "function eigvecs_inverse_iteration(A, λs)\n",
    "    \"\"\" Find eigenvectors for all eigenvalues λs of \n",
    "    the general square matrix A\n",
    "    \"\"\"\n",
    "    N = size(A)[1]\n",
    "    \n",
    "    # sort eigenvalues from smallest to largest\n",
    "    sort!(λs)\n",
    "    \n",
    "    v = zeros(N, N)\n",
    "    \n",
    "    # construct μs such that they all are closest to one of the\n",
    "    # λs.\n",
    "    μs = copy(λs)\n",
    "    \n",
    "    # smallest μ is 98% from smallest eigenvalue\n",
    "    μs[1] *= 0.98\n",
    "    \n",
    "    # all others are 98% of the difference, so they are very close but below\n",
    "    # this guarantees the they are always closest to just one eigenvalue.\n",
    "    μs[2:end] = μs[1:end-1] + 0.98*diff(λs)\n",
    "    \n",
    "    for (i, μ) in enumerate(μs)\n",
    "        v[:,i] = inverse_iteration(A, μ)\n",
    "    end\n",
    "    \n",
    "    return v\n",
    "end"
   ]
  },
  {
   "cell_type": "code",
   "execution_count": 32,
   "metadata": {},
   "outputs": [
    {
     "data": {
      "text/plain": [
       "([-5.6758, 4.91639, 2.75942], [0.412659 -0.560236 0.718226; 0.597434 0.761669 0.250865; -0.687594 0.325571 0.649013])"
      ]
     },
     "execution_count": 32,
     "metadata": {},
     "output_type": "execute_result"
    }
   ],
   "source": [
    "# test iteration\n",
    "\n",
    "B = [2 -3 1\n",
    "-3 1 4\n",
    "2 4 -1]\n",
    "\n",
    "# eigenvalues from QR algorithm\n",
    "u, _ = eig_qr(A)"
   ]
  },
  {
   "cell_type": "code",
   "execution_count": 33,
   "metadata": {},
   "outputs": [
    {
     "data": {
      "text/plain": [
       "3×3 Array{Float64,2}:\n",
       "  0.412659  0.718226  -0.560236\n",
       "  0.597434  0.250865   0.761669\n",
       " -0.687594  0.649013   0.325571"
      ]
     },
     "execution_count": 33,
     "metadata": {},
     "output_type": "execute_result"
    }
   ],
   "source": [
    "v = eigvecs_inverse_iteration(A, u)"
   ]
  },
  {
   "cell_type": "code",
   "execution_count": 34,
   "metadata": {},
   "outputs": [
    {
     "data": {
      "text/plain": [
       "3×3 Array{Float64,2}:\n",
       " -5.6758  2.75942  4.91639\n",
       " -5.6758  2.75942  4.91639\n",
       " -5.6758  2.75942  4.91639"
      ]
     },
     "execution_count": 34,
     "metadata": {},
     "output_type": "execute_result"
    }
   ],
   "source": [
    "# check that they are eigenvectors\n",
    "A*v./v"
   ]
  },
  {
   "cell_type": "code",
   "execution_count": 35,
   "metadata": {},
   "outputs": [
    {
     "data": {
      "text/plain": [
       "3×3 Array{Float64,2}:\n",
       "  1.0          -1.27676e-15   6.88338e-15\n",
       " -1.27676e-15   1.0          -7.2492e-11 \n",
       "  6.88338e-15  -7.2492e-11    1.0        "
      ]
     },
     "execution_count": 35,
     "metadata": {},
     "output_type": "execute_result"
    }
   ],
   "source": [
    "# they are not orthogonal!\n",
    "v'*v"
   ]
  },
  {
   "cell_type": "code",
   "execution_count": null,
   "metadata": {},
   "outputs": [],
   "source": []
  }
 ],
 "metadata": {
  "kernelspec": {
   "display_name": "Julia 1.1.0",
   "language": "julia",
   "name": "julia-1.1"
  },
  "language_info": {
   "file_extension": ".jl",
   "mimetype": "application/julia",
   "name": "julia",
   "version": "1.1.0"
  }
 },
 "nbformat": 4,
 "nbformat_minor": 2
}
